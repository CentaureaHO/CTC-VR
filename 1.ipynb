{
 "cells": [
  {
   "cell_type": "markdown",
   "metadata": {},
   "source": [
    "# 构建语音识别系统"
   ]
  },
  {
   "cell_type": "markdown",
   "metadata": {},
   "source": [
    "## 数据集下载"
   ]
  },
  {
   "cell_type": "markdown",
   "metadata": {},
   "source": [
    "1. 下载数据集：[BZNSYP](https://www.data-baker.com/data/index/TNtts/)\n",
    "- 大约12小时\n",
    "- 来自同一个说话人\n",
    "- 本次实验我们采用pinyin作为我们的识别结果，来构建一个语音识别系统\n",
    "\n",
    "\n",
    "2. 构建数据集\n",
    "- 将数据集放到dataset下，dataset目录如下：\n",
    "\n",
    "    ```\n",
    "    dataset\n",
    "    ├── PhoneLabeling\n",
    "    │   ├── 000001.interval\n",
    "    ├── ProsodyLabeling\n",
    "    │   ├── 000001-010000.txt\n",
    "    ├── Wave\n",
    "    │   ├── 000001.wav\n",
    "    ```\n",
    "\n",
    "- 运行 `splitdata/split_data.py` 划分数据集，最后dataset目录下会多一个split目录\n",
    "\n",
    "    ```\n",
    "    dataset\n",
    "    ├── split\n",
    "    │   ├── train\n",
    "    │   │   ├── wav.scp\n",
    "    │   │   ├── pinyin\n",
    "    │   ├── dev\n",
    "    │   │   ├── wav.scp\n",
    "    │   │   ├── pinyin\n",
    "    │   ├── test\n",
    "    │   │   ├── wav.scp\n",
    "    │   │   ├── pinyin\n",
    "    ```"
   ]
  },
  {
   "cell_type": "markdown",
   "metadata": {},
   "source": [
    "## 数据提取"
   ]
  },
  {
   "cell_type": "markdown",
   "metadata": {},
   "source": [
    "数据提取的框架已经构建好，位于 data/dataloader.py 的BZNSYP类中，需要完成：\n",
    "- 语音特征提取\n",
    "- 文本处理"
   ]
  },
  {
   "cell_type": "markdown",
   "metadata": {},
   "source": [
    "1. 语音特征提取(`data.dataloader.extract_audio_features`函数)\n",
    "\n",
    "    -  可以把上一节课完成的特征提取给放进去\n",
    "    -  要保证返回的结果为一个tensor，并且维度为(L,f)\n",
    "\n",
    "2. 文本处理\n",
    "    - 构建tokenizer：`tokenizer.tokenizer.Tokenizer`\n",
    "    - tokenizer需要做到：\n",
    "        - 将一段字符映射成token id\n",
    "        - 需要完成Tokenizer框架中的TODO"
   ]
  },
  {
   "cell_type": "markdown",
   "metadata": {},
   "source": [
    "### tokenizer构建"
   ]
  },
  {
   "cell_type": "markdown",
   "metadata": {},
   "source": [
    "1. 构建字典\n",
    "    - 构建字典的文件已经写好，tokenizer/gen_vocab.py\n",
    "    - 可以修改一下对应的路径，vocab结果如下\n",
    "\n",
    "        ```\n",
    "        huang\n",
    "        cheng\n",
    "        lo\n",
    "        ...\n",
    "        ```\n",
    "\n",
    "2. 完成Tokenizer的TODO部分\n",
    "    - call函数\n",
    "    - decode函数\n",
    "    - 注意特殊字符\\<pad\\>,\\<unk\\>, \\<sos\\>, \\<eos\\>,\\<blk\\>, \" \""
   ]
  },
  {
   "cell_type": "code",
   "execution_count": 1,
   "metadata": {},
   "outputs": [],
   "source": [
    "from tokenizer.tokenizer import Tokenizer\n",
    "pinyin_list1 = ['wo', 'men', 'cheng', 'shi', 'de', 'fu', 'su', 'you', 'lai']\n",
    "pinyin_list2 = [\"A\", 'wo', 'men', 'cheng']\n",
    "tokenizer = Tokenizer(\"./tokenizer/vocab.txt\")"
   ]
  },
  {
   "cell_type": "code",
   "execution_count": 2,
   "metadata": {},
   "outputs": [
    {
     "name": "stdout",
     "output_type": "stream",
     "text": [
      "['wo', 'men', 'cheng', 'shi', 'de', 'fu', 'su', 'you', 'lai']\n"
     ]
    }
   ],
   "source": [
    "id_list1 = tokenizer(pinyin_list1)\n",
    "print(tokenizer.decode(id_list1))"
   ]
  },
  {
   "cell_type": "code",
   "execution_count": 3,
   "metadata": {},
   "outputs": [
    {
     "name": "stdout",
     "output_type": "stream",
     "text": [
      "unk:  ['A']\n",
      "['wo', 'men', 'cheng']\n"
     ]
    }
   ],
   "source": [
    "id_list2 = tokenizer(pinyin_list2)\n",
    "print(tokenizer.decode(id_list2))"
   ]
  },
  {
   "cell_type": "markdown",
   "metadata": {},
   "source": [
    "## 数据构建"
   ]
  },
  {
   "cell_type": "code",
   "execution_count": 4,
   "metadata": {},
   "outputs": [],
   "source": [
    "from torch.utils.data import DataLoader, Dataset\n",
    "from tokenizer.tokenizer import Tokenizer\n",
    "import torch\n",
    "import random\n",
    "import os\n",
    "from utils.utils import collate_with_PAD\n",
    "\n",
    "def extract_audio_features(wav_file:str)->torch.Tensor:\n",
    "    if not isinstance(wav_file, str):\n",
    "        raise TypeError(f\"Expected string for wav_file\")\n",
    "\n",
    "    # TODO\n",
    "    # 提取音频特征,并转化成torch.Tensor\n",
    "    random_number = random.randint(100, 1000)\n",
    "    res = torch.randn(random_number, 80)\n",
    "\n",
    "    if not isinstance(res, torch.Tensor):\n",
    "        raise TypeError(\"Return value must be torch.Tensor\")\n",
    "    return res\n",
    "\n",
    "\n",
    "class BZNSYP(Dataset):\n",
    "    def __init__(self, wav_file, text_file, tokenizer):\n",
    "        self.tokenizer = tokenizer\n",
    "        self.wav2path = {}\n",
    "        self.wav2text = {}\n",
    "        self.ids = []\n",
    "\n",
    "        with open(wav_file, \"r\", encoding=\"utf-8\") as f:\n",
    "            for line in f:\n",
    "                parts = line.strip().split(\"\\t\", 1)\n",
    "                if len(parts) == 2:\n",
    "                    id = parts[0]\n",
    "                    self.ids.append(id)\n",
    "                    path = \"./dataset/\" + parts[1]\n",
    "                    self.wav2path[id] = path\n",
    "                else:\n",
    "                    raise ValueError(f\"Invalid line format: {line}\")\n",
    "\n",
    "        with open(text_file, \"r\", encoding=\"utf-8\") as f:\n",
    "            for line in f:\n",
    "                parts = line.strip().split(\"\\t\", 1)\n",
    "                if len(parts) == 2:\n",
    "                    id = parts[0]\n",
    "                    pinyin_list = parts[1].split(\" \")\n",
    "                    self.wav2text[id] = self.tokenizer([\"<sos>\"]+pinyin_list+[\"<eos>\"])\n",
    "                else:\n",
    "                    raise ValueError(f\"Invalid line format: {line}\")\n",
    "    \n",
    "    def __len__(self):\n",
    "        return len(self.wav2path)\n",
    "    \n",
    "    def __getitem__(self, index):\n",
    "        id = list(self.wav2path.keys())[index]\n",
    "        path = self.wav2path[id]\n",
    "        text = self.wav2text[id]\n",
    "        return id, extract_audio_features(id), text\n",
    "    \n",
    "\n",
    "def get_dataloader(wav_file, text_file, batch_size, tokenizer, shuffle=True):\n",
    "    dataset = BZNSYP(wav_file, text_file, tokenizer)\n",
    "    dataloader = DataLoader(\n",
    "        dataset,\n",
    "        batch_size=batch_size,\n",
    "        shuffle=shuffle,\n",
    "        collate_fn=collate_with_PAD\n",
    "    )\n",
    "    return dataloader"
   ]
  },
  {
   "cell_type": "code",
   "execution_count": 5,
   "metadata": {},
   "outputs": [],
   "source": [
    "tokenizer = Tokenizer()\n",
    "dataloader = get_dataloader(\"./dataset/split/train/wav.scp\", \"./dataset/split/train/pinyin\", 3, tokenizer, shuffle = False)\n",
    "input = None\n",
    "for batch in dataloader:\n",
    "    input = batch\n",
    "    break\n",
    "\n",
    "audio_lens = input[\"audio_lens\"]\n",
    "audios = input[\"audios\"]\n",
    "texts = input[\"texts\"]\n",
    "text_lens = input[\"text_lens\"]"
   ]
  },
  {
   "cell_type": "code",
   "execution_count": 6,
   "metadata": {},
   "outputs": [
    {
     "name": "stdout",
     "output_type": "stream",
     "text": [
      "dict_keys(['ids', 'audios', 'audio_lens', 'texts', 'text_lens'])\n"
     ]
    }
   ],
   "source": [
    "print(input.keys())"
   ]
  },
  {
   "cell_type": "code",
   "execution_count": 7,
   "metadata": {},
   "outputs": [
    {
     "name": "stdout",
     "output_type": "stream",
     "text": [
      "tensor([846, 270, 731], dtype=torch.int32)\n",
      "tensor([[-1.9291e-01, -8.0170e-02,  5.8445e-01,  ..., -5.9170e-01,\n",
      "         -8.0922e-01, -4.3831e-01],\n",
      "        [ 5.7072e-01, -5.5849e-01,  1.5525e-02,  ..., -5.1530e-01,\n",
      "          2.5720e+00,  1.4080e+00],\n",
      "        [ 9.6679e-01,  1.1044e+00,  4.1950e-01,  ...,  1.1179e+00,\n",
      "          4.5566e-01, -5.5372e-01],\n",
      "        ...,\n",
      "        [-2.3685e-03,  1.6951e+00,  3.2000e-01,  ...,  2.7687e+00,\n",
      "         -1.6895e+00, -1.7418e-01],\n",
      "        [-7.4421e-01, -3.2440e-01, -1.3456e-02,  ..., -6.7055e-01,\n",
      "         -7.0159e-01, -8.1147e-01],\n",
      "        [ 1.5708e-01, -1.2388e+00,  1.5396e+00,  ..., -9.1777e-02,\n",
      "          2.1803e-02, -6.8506e-01]])\n"
     ]
    }
   ],
   "source": [
    "# audio\n",
    "print(audio_lens)\n",
    "print(audios[0, : , :])"
   ]
  },
  {
   "cell_type": "code",
   "execution_count": 8,
   "metadata": {},
   "outputs": [
    {
     "name": "stdout",
     "output_type": "stream",
     "text": [
      "['ka', 'e', 'er', 'pu', 'pei', 'wai', 'sun', 'wan', 'hua', 'ti']\n",
      "['<sos>', 'ka', 'e', 'er', 'pu', 'pei', 'wai', 'sun', 'wan', 'hua', 'ti', '<eos>', '<pad>', '<pad>', '<pad>', '<pad>']\n",
      "['jia', 'yu', 'cun', 'yan', 'bie', 'zai', 'yong', 'bao', 'wo']\n",
      "['<sos>', 'jia', 'yu', 'cun', 'yan', 'bie', 'zai', 'yong', 'bao', 'wo', '<eos>', '<pad>', '<pad>', '<pad>', '<pad>', '<pad>']\n",
      "['bao', 'ma', 'pei', 'gua', 'bo', 'luo', 'an', 'diao', 'chan', 'yuan', 'zhen', 'dong', 'weng', 'ta']\n",
      "['<sos>', 'bao', 'ma', 'pei', 'gua', 'bo', 'luo', 'an', 'diao', 'chan', 'yuan', 'zhen', 'dong', 'weng', 'ta', '<eos>']\n"
     ]
    }
   ],
   "source": [
    "# text\n",
    "texts = texts.tolist()\n",
    "\n",
    "for text in texts:\n",
    "    print(tokenizer.decode(text))\n",
    "    print(tokenizer.decode(text, ignore_special=False))"
   ]
  },
  {
   "cell_type": "code",
   "execution_count": null,
   "metadata": {},
   "outputs": [],
   "source": []
  }
 ],
 "metadata": {
  "kernelspec": {
   "display_name": "speechassistant",
   "language": "python",
   "name": "python3"
  },
  "language_info": {
   "codemirror_mode": {
    "name": "ipython",
    "version": 3
   },
   "file_extension": ".py",
   "mimetype": "text/x-python",
   "name": "python",
   "nbconvert_exporter": "python",
   "pygments_lexer": "ipython3",
   "version": "3.10.16"
  }
 },
 "nbformat": 4,
 "nbformat_minor": 2
}
